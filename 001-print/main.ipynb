{
 "cells": [
  {
   "cell_type": "code",
   "execution_count": 2,
   "metadata": {
    "collapsed": false
   },
   "outputs": [
    {
     "name": "stdout",
     "output_type": "stream",
     "text": [
      "hello world\n"
     ]
    }
   ],
   "source": [
    "# 行頭に # を書くと、プログラムとして処理されない文字列（コメントと呼ばれます）を書くことができます\n",
    "\n",
    "# 以下の例にならって、文字を表示してください\n",
    "# ex. hello world と表示する\n",
    "print('hello world')\n",
    "\n",
    "# 1. Pastafarianism, Flying Spaghetti Monsterism　と表示する\n",
    "# 2. 1234 と表示する\n",
    "# 3. Monty Python's Flying Circus と表示する (シングルクォーター' に注意)\n"
   ]
  },
  {
   "cell_type": "code",
   "execution_count": null,
   "metadata": {
    "collapsed": true
   },
   "outputs": [],
   "source": []
  }
 ],
 "metadata": {
  "kernelspec": {
   "display_name": "Python 3",
   "language": "python",
   "name": "python3"
  },
  "language_info": {
   "codemirror_mode": {
    "name": "ipython",
    "version": 3
   },
   "file_extension": ".py",
   "mimetype": "text/x-python",
   "name": "python",
   "nbconvert_exporter": "python",
   "pygments_lexer": "ipython3",
   "version": "3.5.1"
  }
 },
 "nbformat": 4,
 "nbformat_minor": 0
}
